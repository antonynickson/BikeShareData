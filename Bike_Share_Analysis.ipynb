{
 "cells": [
  {
   "cell_type": "markdown",
   "metadata": {},
   "source": [
    "# US Bike Share Project\n",
    "\n",
    "## Table of Contents\n",
    "- [Introduction](#intro)\n",
    "- [Posing Questions](#pose_questions)\n",
    "- [Data Collection and Wrangling](#wrangling)\n",
    "  - [Condensing the Trip Data](#condensing)\n",
    "- [Exploratory Data Analysis](#eda)\n",
    "  - [Statistics](#statistics)\n",
    "  - [Visualizations](#visualizations)\n",
    "- [Conclusions](#conclusions)\n",
    "\n",
    "<a id='intro'></a>\n",
    "## Introduction\n",
    "\n",
    "\n",
    "Over the past decade, bicycle-sharing systems have been growing in number and popularity in cities across the world. Bicycle-sharing systems allow users to rent bicycles for short trips, typically 30 minutes or less. Thanks to the rise in information technologies, it is easy for a user of the system to access a dock within the system to unlock or return bicycles. These technologies also provide a wealth of data that can be used to explore how these bike-sharing systems are used.\n",
    "\n",
    "In this project, we will perform an exploratory analysis on data provided by [Motivate](https://www.motivateco.com/), a bike-share system provider for many major cities in the United States. we will compare the system usage between three large cities: New York City, Chicago, and Washington, DC. we will also see if there are any differences within each system for those users that are registered, regular users and those users that are short-term, casual users."
   ]
  },
  {
   "cell_type": "markdown",
   "metadata": {},
   "source": [
    "<a id='pose_questions'></a>\n",
    "## Posing Questions\n",
    "\n",
    "Before looking at the bike sharing data, we should start by asking questions we might want to understand about the bike share data. Consider, for example, if we were working for Motivate. What kinds of information would we want to know about in order to make smarter business decisions? If we were a user of the bike-share service, what factors might influence how we would want to use the service?\n",
    "\n",
    "            1. how many users are using my service in a particular region/city?\n",
    "            2. what is the peak time ie) At what time, more people are  using my service?\n",
    "            3. How many repetitve customers?\n",
    "            4. In one month how many distance people are travelling (cummlative) using my service ?\n",
    "            5. What are all the different types of services they are providing so that i can select the one that is suitable for                me? \n",
    "            6. Is the service easily accessible? ie) do i have to travel far to avail the service \n",
    "            7. If i didnt like the service. will they refund or find a solution immeditaely ?\n",
    "           \n"
   ]
  },
  {
   "cell_type": "markdown",
   "metadata": {},
   "source": [
    "<a id='wrangling'></a>\n",
    "## Data Collection and Wrangling\n",
    "\n",
    "Now it's time to collect and explore our data. In this project, we will focus on the record of individual trips taken in 2016 from our selected cities: New York City, Chicago, and Washington, DC. Each of these cities has a page where we can freely download the trip data.:\n",
    "\n",
    "- New York City (Citi Bike): [Link](https://www.citibikenyc.com/system-data)\n",
    "- Chicago (Divvy): [Link](https://www.divvybikes.com/system-data)\n",
    "- Washington, DC (Capital Bikeshare): [Link](https://www.capitalbikeshare.com/system-data)\n",
    "\n",
    "If we visit these pages, we will notice that each city has a different way of delivering its data. Chicago updates with new data twice a year, Washington DC is quarterly, and New York City is monthly. The data has already been collected in the `/data/` folder of the project files. While the original data for 2016 is spread among multiple files for each city, the files in the `/data/` folder collect all of the trip data for the year into one file per city. \n",
    " "
   ]
  },
  {
   "cell_type": "code",
   "execution_count": 1,
   "metadata": {
    "collapsed": true
   },
   "outputs": [],
   "source": [
    "## import all necessary packages and functions.\n",
    "import csv # read and write csv files\n",
    "from datetime import datetime # operations to parse dates\n",
    "from pprint import pprint # use to print data structures like dictionaries in\n",
    "                          # a nicer way than the base print function."
   ]
  },
  {
   "cell_type": "code",
   "execution_count": 57,
   "metadata": {},
   "outputs": [
    {
     "name": "stdout",
     "output_type": "stream",
     "text": [
      "\n",
      "City: NYC\n",
      "OrderedDict([('tripduration', '839'),\n",
      "             ('starttime', '1/1/2016 00:09:55'),\n",
      "             ('stoptime', '1/1/2016 00:23:54'),\n",
      "             ('start station id', '532'),\n",
      "             ('start station name', 'S 5 Pl & S 4 St'),\n",
      "             ('start station latitude', '40.710451'),\n",
      "             ('start station longitude', '-73.960876'),\n",
      "             ('end station id', '401'),\n",
      "             ('end station name', 'Allen St & Rivington St'),\n",
      "             ('end station latitude', '40.72019576'),\n",
      "             ('end station longitude', '-73.98997825'),\n",
      "             ('bikeid', '17109'),\n",
      "             ('usertype', 'Customer'),\n",
      "             ('birth year', ''),\n",
      "             ('gender', '0')])\n",
      "\n",
      "City: Chicago\n",
      "OrderedDict([('trip_id', '9080545'),\n",
      "             ('starttime', '3/31/2016 23:30'),\n",
      "             ('stoptime', '3/31/2016 23:46'),\n",
      "             ('bikeid', '2295'),\n",
      "             ('tripduration', '926'),\n",
      "             ('from_station_id', '156'),\n",
      "             ('from_station_name', 'Clark St & Wellington Ave'),\n",
      "             ('to_station_id', '166'),\n",
      "             ('to_station_name', 'Ashland Ave & Wrightwood Ave'),\n",
      "             ('usertype', 'Subscriber'),\n",
      "             ('gender', 'Male'),\n",
      "             ('birthyear', '1990')])\n",
      "\n",
      "City: Washington\n",
      "OrderedDict([('Duration (ms)', '427387'),\n",
      "             ('Start date', '3/31/2016 22:57'),\n",
      "             ('End date', '3/31/2016 23:04'),\n",
      "             ('Start station number', '31602'),\n",
      "             ('Start station', 'Park Rd & Holmead Pl NW'),\n",
      "             ('End station number', '31207'),\n",
      "             ('End station', 'Georgia Ave and Fairmont St NW'),\n",
      "             ('Bike number', 'W20842'),\n",
      "             ('Member Type', 'Registered')])\n"
     ]
    }
   ],
   "source": [
    "def print_first_point(filename):\n",
    "    \"\"\"\n",
    "    This function prints and returns the first data point (second row) from\n",
    "    a csv file that includes a header row.\n",
    "    \"\"\"\n",
    "    # print city name for reference\n",
    "    city = filename.split('-')[0].split('/')[-1]\n",
    "    print('\\nCity: {}'.format(city))\n",
    "    \n",
    "    with open(filename, 'r') as f_in:\n",
    "        ## Use the csv library to set up a DictReader object. ##\n",
    "    \n",
    "        trip_reader = csv.DictReader(f_in)\n",
    "    \n",
    "        ## Read the first trip from the data file and store it in a variable.     ##\n",
    "        \n",
    "        first_trip = trip_reader.__next__()\n",
    "        \n",
    "\n",
    "        \n",
    "        \n",
    "        ##  Use the pprint library to print the first trip. ##\n",
    "        pprint(first_trip)\n",
    "        \n",
    "    # output city name and first trip for later testing\n",
    "    return (city, first_trip)\n",
    "\n",
    "# list of files for each city\n",
    "data_files = ['./data/NYC-CitiBike-2016.csv',\n",
    "              './data/Chicago-Divvy-2016.csv',\n",
    "              './data/Washington-CapitalBikeshare-2016.csv',]\n",
    "\n",
    "# print the first trip from each file, store in dictionary\n",
    "example_trips = {}\n",
    "for data_file in data_files:\n",
    "    city, first_trip = print_first_point(data_file)\n",
    "    example_trips[city] = first_trip\n",
    "    \n"
   ]
  },
  {
   "cell_type": "markdown",
   "metadata": {},
   "source": [
    "Now, we should see below the printout of each city name (which has been parsed from the data file name) that the first trip has been parsed in the form of a dictionary. When we set up a `DictReader` object, the first row of the data file is normally interpreted as column names. Every other row in the data file will use those column names as keys, as a dictionary is generated for each row.\n",
    "\n",
    "<a id='condensing'></a>\n",
    "### Condensing the Trip Data\n",
    "\n",
    "It should also be observable from the above printout that each city provides different information. Even where the information is the same, the column names and formats are sometimes different. To make things as simple as possible when we get to the actual exploration, we should trim and clean the data. Cleaning the data makes sure that the data formats across the cities are consistent, while trimming focuses only on the parts of the data we are most interested in to make the exploration easier to work with.\n",
    "\n",
    "we will generate new data files with five values of interest for each trip: trip duration, starting month, starting hour, day of the week, and user type. Each of these may require additional wrangling depending on the city:\n",
    "\n",
    "- **Duration**: This has been given to us in seconds (New York, Chicago) or milliseconds (Washington). A more natural unit of analysis will be if all the trip durations are given in terms of minutes.\n",
    "- **Month**, **Hour**, **Day of Week**: Ridership volume is likely to change based on the season, time of day, and whether it is a weekday or weekend. Use the start time of the trip to obtain these values. The New York City data includes the seconds in their timestamps, while Washington and Chicago do not.\n",
    "- **User Type**: It is possible that users who are subscribed to a bike-share system will have different patterns of use compared to users who only have temporary passes. Washington divides its users into two types: 'Registered' for users with annual, monthly, and other longer-term subscriptions, and 'Casual', for users with 24-hour, 3-day, and other short-term passes. The New York and Chicago data uses 'Subscriber' and 'Customer' for these groups, respectively. For consistency, we will convert the Washington labels to match the other two.\n"
   ]
  },
  {
   "cell_type": "code",
   "execution_count": 58,
   "metadata": {
    "collapsed": true
   },
   "outputs": [],
   "source": [
    "def duration_in_mins(datum, city):\n",
    "    \"\"\"\n",
    "    Takes as input a dictionary containing info about a single trip (datum) and\n",
    "    its origin city (city) and returns the trip duration in units of minutes.\n",
    "    \n",
    "    Washington is in terms of milliseconds while Chicago and NYC\n",
    "    are in terms of seconds. \n",
    "\n",
    "    \"\"\"\n",
    "    # CODE HERE\n",
    "  \n",
    "    if city == 'NYC' or city == 'Chicago':\n",
    "        trip_dur = int(datum['tripduration'])\n",
    "        duration = (trip_dur / 60)\n",
    "        \n",
    "    elif city == 'Washington':\n",
    "        trip_dur_was = int(datum['Duration (ms)'])\n",
    "        \n",
    "        duration = (trip_dur_was/(1000*60))\n",
    "        \n",
    "        \n",
    "        \n",
    "        \n",
    "    \n",
    "        \n",
    "   \n",
    "    return duration\n",
    "\n",
    "\n",
    "tests = {'NYC': 13.9833,\n",
    "         'Chicago': 15.4333,\n",
    "         'Washington': 7.1231}\n",
    "\n",
    "for city in tests:\n",
    "    assert abs(duration_in_mins(example_trips[city], city) - tests[city]) < .001"
   ]
  },
  {
   "cell_type": "code",
   "execution_count": 63,
   "metadata": {
    "collapsed": true
   },
   "outputs": [],
   "source": [
    "def type_of_user(datum, city):\n",
    "    \"\"\"\n",
    "    Takes as input a dictionary containing info about a single trip (datum) and\n",
    "    its origin city (city) and returns the type of system user that made the\n",
    "    trip.\n",
    "    \n",
    "    Washington has different category names compared to Chicago\n",
    "    and NYC. \n",
    "    \"\"\"\n",
    "    global user_type\n",
    "    \n",
    "    if city == 'NYC' or city == 'Chicago':\n",
    "        user_type = datum['usertype']\n",
    "    elif city == 'Washington' and datum['Member Type'] == 'Registered':\n",
    "        datum['Member Type'] = 'Subscriber'\n",
    "        user_type = datum['Member Type']\n",
    "    elif city == 'Washington' and datum['Member Type'] == 'Casual':\n",
    "        datum['Member Type'] = 'Customer'\n",
    "        user_type = datum['Member Type'] \n",
    "    \n",
    "    return user_type\n",
    "\n",
    "\n",
    "tests = {'NYC': 'Customer',\n",
    "         'Chicago': 'Subscriber',\n",
    "         'Washington': 'Subscriber'}\n",
    "\n",
    "for city in tests:\n",
    "    assert type_of_user(example_trips[city], city) == tests[city]"
   ]
  },
  {
   "cell_type": "code",
   "execution_count": 60,
   "metadata": {
    "collapsed": true
   },
   "outputs": [],
   "source": [
    "def time_of_trip(datum, city):\n",
    "    \"\"\"\n",
    "    Takes as input a dictionary containing info about a single trip (datum) and\n",
    "    its origin city (city) and returns the month, hour, and day of the week in\n",
    "    which the trip was made.\n",
    "    \n",
    "    NYC includes seconds, while Washington and Chicago do not.\n",
    "    \n",
    "    \"\"\"\n",
    "    \n",
    "  \n",
    "    if city == 'NYC':\n",
    "        t = datum['starttime']\n",
    "        mymonth = datetime.strptime(t,'%m/%d/%Y %H:%M:%S')\n",
    "        month = int(mymonth.strftime('%-m'))\n",
    "        hour = int(mymonth.strftime('%-H'))\n",
    "        day_of_week = mymonth.strftime('%A')\n",
    "        #print(month,hour,day_of_week)\n",
    "    \n",
    "    elif city == 'Chicago':\n",
    "        t = datum['starttime']\n",
    "        mymonth = datetime.strptime(t,'%m/%d/%Y %H:%M')\n",
    "        month = int(mymonth.strftime('%-m'))\n",
    "        hour = int(mymonth.strftime('%-H'))\n",
    "        day_of_week = mymonth.strftime('%A')\n",
    "        #print(month,hour,day_of_week)\n",
    "        \n",
    "    elif city == 'Washington':\n",
    "        t = datum['Start date']\n",
    "        mymonth = datetime.strptime(t,'%m/%d/%Y %H:%M')\n",
    "        month = int(mymonth.strftime('%-m'))\n",
    "        hour = int(mymonth.strftime('%-H'))\n",
    "        day_of_week = mymonth.strftime('%A')\n",
    "        #print(month,hour,day_of_week)\n",
    "    \n",
    "    \n",
    "    return (month, hour, day_of_week)\n",
    "\n",
    "\n",
    "tests = {'NYC': (1, 0, 'Friday'),\n",
    "         'Chicago': (3, 23, 'Thursday'),\n",
    "         'Washington': (3, 22, 'Thursday')}\n",
    "\n",
    "for city in tests:\n",
    "    assert time_of_trip(example_trips[city], city) == tests[city]"
   ]
  },
  {
   "cell_type": "markdown",
   "metadata": {},
   "source": []
  },
  {
   "cell_type": "code",
   "execution_count": 20,
   "metadata": {
    "collapsed": true
   },
   "outputs": [],
   "source": [
    "def condense_data(in_file, out_file, city):\n",
    "    \"\"\"\n",
    "    This function takes full data from the specified input file\n",
    "    and writes the condensed data to a specified output file. The city\n",
    "    argument determines how the input file will be parsed.\n",
    "    \n",
    "    \"\"\"\n",
    "    \n",
    "    with open(out_file, 'w') as f_out, open(in_file, 'r') as f_in:\n",
    "        # set up csv DictWriter object - writer requires column names for the\n",
    "        # first row as the \"fieldnames\" argument\n",
    "        out_colnames = ['duration', 'month', 'hour', 'day_of_week', 'user_type']        \n",
    "        trip_writer = csv.DictWriter(f_out, fieldnames = out_colnames)\n",
    "        trip_writer.writeheader()\n",
    "        ## Tset up csv DictReader object ##\n",
    "        trip_reader = csv.DictReader(f_in)\n",
    "        # collect data from and process each row\n",
    "        temp = []\n",
    "        for row in trip_reader:\n",
    "            #print(row)\n",
    "            # set up a dictionary to hold the values for the cleaned and trimmed\n",
    "            # data point\n",
    "            new_point = {}\n",
    "\n",
    "            new_point['duration'] = duration_in_mins(row, city)\n",
    "            \n",
    "            month,hour,day_of_week = time_of_trip(row, city)\n",
    "            new_point['month'] = month\n",
    "            new_point['hour'] = hour\n",
    "            new_point['day_of_week'] = day_of_week\n",
    "            new_point['user_type'] = type_of_user(row, city)\n",
    "\n",
    "            #print(new_point)\n",
    "            #temp.append(new_point)\n",
    "        #print(temp)\n",
    "            #new_point = new_point\n",
    "            trip_writer.writerow(new_point)\n",
    "            \n",
    "    \n",
    "\n",
    "                \n",
    "    \n",
    "        \n",
    "            \n",
    "     \n",
    "            \n",
    "           \n",
    "            \n",
    "            \n",
    "            \n",
    "            \n",
    "       "
   ]
  },
  {
   "cell_type": "code",
   "execution_count": 21,
   "metadata": {},
   "outputs": [
    {
     "name": "stdout",
     "output_type": "stream",
     "text": [
      "\n",
      "City: Washington\n",
      "OrderedDict([('duration', '7.123116666666666'),\n",
      "             ('month', '3'),\n",
      "             ('hour', '22'),\n",
      "             ('day_of_week', 'Thursday'),\n",
      "             ('user_type', 'Subscriber')])\n",
      "\n",
      "City: Chicago\n",
      "OrderedDict([('duration', '15.433333333333334'),\n",
      "             ('month', '3'),\n",
      "             ('hour', '23'),\n",
      "             ('day_of_week', 'Thursday'),\n",
      "             ('user_type', 'Subscriber')])\n",
      "\n",
      "City: NYC\n",
      "OrderedDict([('duration', '13.983333333333333'),\n",
      "             ('month', '1'),\n",
      "             ('hour', '0'),\n",
      "             ('day_of_week', 'Friday'),\n",
      "             ('user_type', 'Customer')])\n"
     ]
    }
   ],
   "source": [
    "# Run this cell to check our work\n",
    "city_info = {'Washington': {'in_file': './data/Washington-CapitalBikeshare-2016.csv',\n",
    "                            'out_file': './data/Washington-2016-Summary.csv'},\n",
    "             'Chicago': {'in_file': './data/Chicago-Divvy-2016.csv',\n",
    "                         'out_file': './data/Chicago-2016-Summary.csv'},\n",
    "             'NYC': {'in_file': './data/NYC-CitiBike-2016.csv',\n",
    "                     'out_file': './data/NYC-2016-Summary.csv'}}\n",
    "\n",
    "for city, filenames in city_info.items():\n",
    "    condense_data(filenames['in_file'], filenames['out_file'], city)\n",
    "    print_first_point(filenames['out_file'])"
   ]
  },
  {
   "cell_type": "markdown",
   "metadata": {},
   "source": [
    "<a id='eda'></a>\n",
    "## Exploratory Data Analysis\n",
    "\n",
    "Now that we have the data collected and wrangled, we're ready to start exploring the data. In this section we will write  code to compute descriptive statistics from the data. we will also use `matplotlib` library to create  histograms of the data.\n",
    "\n",
    "<a id='statistics'></a>\n",
    "### Statistics\n",
    "\n",
    "First, let's compute some basic counts. The first cell below contains a function that uses the csv module to iterate through a provided data file, returning the number of trips made by subscribers and customers. The second cell runs this function on the example Bay Area data in the `/examples/` folder. \n",
    "\n",
    "1. Which city has the highest number of trips? \n",
    "2. Which city has the highest proportion of trips made by subscribers? \n",
    "3. Which city has the highest proportion of trips made by short-term customers?"
   ]
  },
  {
   "cell_type": "code",
   "execution_count": 22,
   "metadata": {},
   "outputs": [
    {
     "name": "stdout",
     "output_type": "stream",
     "text": [
      "The highest no. of trips recorded in nyc: 276798\n"
     ]
    }
   ],
   "source": [
    "#1\n",
    "\n",
    "def trips_cities(filename):\n",
    "    with open(filename, 'r') as f:\n",
    "        reader = csv.DictReader(f)        \n",
    "        n = 0        \n",
    "        for row in reader:\n",
    "            n +=1\n",
    "        return n\n",
    "    \n",
    "def high_trips(city):\n",
    "    data_files_n = './data/NYC-2016-Summary.csv'\n",
    "    data_files_c =  './data/Chicago-2016-Summary.csv'\n",
    "    data_files_w =  './data/Washington-2016-Summary.csv'\n",
    "    \n",
    "    chicago = trips_cities(data_files_c)\n",
    "    #print(chicago)\n",
    "    nyc = trips_cities(data_files_n)\n",
    "    #print(nyc)\n",
    "    washington = trips_cities(data_files_w)\n",
    "    #print(washington)\n",
    "    \n",
    "    if chicago > nyc and chicago > washington:\n",
    "        return 'The highest no. of trips recorded in chicago: {}'.format(chicago)\n",
    "    elif nyc > washington and nyc > chicago:\n",
    "        return 'The highest no. of trips recorded in nyc: {}'.format(nyc)\n",
    "    else:\n",
    "        return 'The highest no. of trips recorded in washington: {}'.format(washington)\n",
    "\n",
    "print(high_trips(city))"
   ]
  },
  {
   "cell_type": "code",
   "execution_count": 23,
   "metadata": {},
   "outputs": [
    {
     "name": "stdout",
     "output_type": "stream",
     "text": [
      "The highest propotion of customers recorded in chicago: 0.24\n"
     ]
    }
   ],
   "source": [
    "#3\n",
    "\n",
    "def number_of_customers(filename):\n",
    "    \"\"\"\n",
    "    This function reads in a file with trip data and reports the number of\n",
    "    trips made by subscribers, customers, and total overall.\n",
    "    \"\"\"\n",
    "    with open(filename, 'r') as f_in:\n",
    "        # set up csv reader object\n",
    "        reader = csv.DictReader(f_in)\n",
    "        \n",
    "        n_customers = 0\n",
    "        \n",
    "        for row in reader:\n",
    "            if row['user_type'] == 'Customer':\n",
    "                n_customers += 1\n",
    "                \n",
    "        return n_customers\n",
    "                \n",
    "def customer_propotion(data_file):\n",
    "    data_file = './examples/BayArea-Y3-Summary.csv'\n",
    "    data_files_n = './data/NYC-2016-Summary.csv'\n",
    "    data_files_c =  './data/Chicago-2016-Summary.csv'\n",
    "    data_files_w =  './data/Washington-2016-Summary.csv'\n",
    "    \n",
    "    chicago = number_of_customers(data_files_c)\n",
    "    #print(chicago)\n",
    "    nyc = number_of_customers(data_files_n)\n",
    "    #print(nyc)\n",
    "    washington = number_of_customers(data_files_w)\n",
    "    #print(washington)\n",
    "    \n",
    "    tot_trip_c = trips_cities(data_files_c)\n",
    "    tot_trip_n = trips_cities(data_files_n)\n",
    "    tot_trip_w = trips_cities(data_files_w)\n",
    "    \n",
    "    chicago_prop = chicago / tot_trip_c\n",
    "    nyc_prop = nyc / tot_trip_n\n",
    "    washington_prop = washington / tot_trip_w\n",
    "    \n",
    "    if chicago_prop > nyc_prop and chicago_prop > washington_prop:\n",
    "        return 'The highest propotion of customers recorded in chicago: {}'.format((round(chicago_prop,2)))\n",
    "    elif nyc_prop > washington_prop and nyc_prop > chicago_prop:\n",
    "        return 'The highest propotion of customers recorded in nyc: {}'.format((round(nyc_prop,2)))\n",
    "    else:\n",
    "        return 'The highest propotion of customers recorded in washington: {}'.format((round(washington_prop,2)))\n",
    "\n",
    "print(customer_propotion(data_file))\n"
   ]
  },
  {
   "cell_type": "code",
   "execution_count": 25,
   "metadata": {},
   "outputs": [
    {
     "name": "stdout",
     "output_type": "stream",
     "text": [
      "The highest propotion of subscribers recorded in nyc: 0.89\n"
     ]
    }
   ],
   "source": [
    "#2\n",
    "\n",
    "def number_of_subscribers(filename):\n",
    "    \"\"\"\n",
    "    This function reads in a file with trip data and reports the number of\n",
    "    trips made by subscribers, customers, and total overall.\n",
    "    \"\"\"\n",
    "    with open(filename, 'r') as f_in:\n",
    "        # set up csv reader object\n",
    "        reader = csv.DictReader(f_in)\n",
    "        \n",
    "        # initialize count variables\n",
    "        n_subscribers = 0\n",
    "        #n_customers = 0\n",
    "        \n",
    "        # tally up ride types\n",
    "        for row in reader:\n",
    "            if row['user_type'] == 'Subscriber':\n",
    "                n_subscribers += 1\n",
    "        return n_subscribers\n",
    "    \n",
    "def propotion(subscribers):\n",
    "    subscribers = None\n",
    "    data_file = './examples/BayArea-Y3-Summary.csv'\n",
    "    data_files_n = './data/NYC-2016-Summary.csv'\n",
    "    data_files_c =  './data/Chicago-2016-Summary.csv'\n",
    "    data_files_w =  './data/Washington-2016-Summary.csv'\n",
    "    \n",
    "    chicago = number_of_subscribers(data_files_c)\n",
    "    #print(chicago)\n",
    "    nyc = number_of_subscribers(data_files_n)\n",
    "    #print(nyc)\n",
    "    washington = number_of_subscribers(data_files_w)\n",
    "    #print(washington)\n",
    "    \n",
    "    tot_trip_c = trips_cities(data_files_c)\n",
    "    tot_trip_n = trips_cities(data_files_n)\n",
    "    tot_trip_w = trips_cities(data_files_w)\n",
    "    \n",
    "    chicago_prop = chicago / tot_trip_c\n",
    "    nyc_prop = nyc / tot_trip_n\n",
    "    washington_prop = washington / tot_trip_w\n",
    "    \n",
    "    if chicago_prop > nyc_prop and chicago_prop > washington_prop:\n",
    "        return 'The highest propotion of subscribers recorded in chicago: {} '.format(round(chicago_prop,2))\n",
    "    elif nyc_prop > washington_prop and nyc_prop > chicago_prop:\n",
    "        return 'The highest propotion of subscribers recorded in nyc: {}'.format(round(nyc_prop,2))\n",
    "    else:\n",
    "        return 'The highest propotion of subscribers recorded in washington: {} '.format(round(washington_prop,2))\n",
    "\n",
    "print(propotion(data_file))"
   ]
  },
  {
   "cell_type": "markdown",
   "metadata": {},
   "source": [
    "Now, Lets write code to continue investigating properties of the data.\n",
    "\n",
    "Bike-share systems are designed for riders to take short trips. Most of the time, users are allowed to take trips of 30 minutes or less with no additional charges, with overage charges made for trips of longer than that duration.\n",
    "\n",
    "1. What is the average trip length for each city? \n",
    "2. What proportion of rides made in each city are longer than 30 minutes?"
   ]
  },
  {
   "cell_type": "code",
   "execution_count": 28,
   "metadata": {
    "scrolled": true
   },
   "outputs": [
    {
     "name": "stdout",
     "output_type": "stream",
     "text": [
      "The Average trip length of Chicago: 17.0 minutes\n",
      "The Average trip length of nyc: 16.0 minutes\n",
      "The Average trip length of washington: 19.0 minutes\n"
     ]
    }
   ],
   "source": [
    "#1\n",
    "\n",
    "def trip_length(filename):\n",
    "    total_trip = 0\n",
    "    number_of_trip = 0\n",
    "    Avg = 0\n",
    "    with open(filename,'r') as f:\n",
    "        trip_reader = csv.DictReader(f, delimiter=\",\")\n",
    "        for row in trip_reader:\n",
    "            number_of_trip += 1\n",
    "            #print(row['duration'])\n",
    "            total_trip += float(row['duration'])\n",
    "        Avg = total_trip / number_of_trip\n",
    "        return Avg\n",
    "\n",
    "def avg_length(avg):\n",
    "    data_files_n = './data/NYC-2016-Summary.csv'\n",
    "    data_files_c =  './data/Chicago-2016-Summary.csv'\n",
    "    data_files_w =  './data/Washington-2016-Summary.csv'\n",
    "    data = './examples/BayArea-Y3-Summary.csv'\n",
    "    \n",
    "    chicago = trip_length(data_files_c)\n",
    "    nyc = trip_length(data_files_n)\n",
    "    washington = trip_length(data_files_w)\n",
    "    d = trip_length(data)\n",
    "    \n",
    "    print('The Average trip length of Chicago: {} minutes'.format(round(chicago,0)))\n",
    "    print('The Average trip length of nyc: {} minutes'.format(round(nyc,0)))\n",
    "    print('The Average trip length of washington: {} minutes'.format(round(washington,0)))\n",
    "    \n",
    "    #print('The Average trip length of bayarea: {} minutes'.format(round(d,0)))\n",
    "    \n",
    "    \n",
    "avg_length(data_file)"
   ]
  },
  {
   "cell_type": "code",
   "execution_count": 29,
   "metadata": {},
   "outputs": [
    {
     "name": "stdout",
     "output_type": "stream",
     "text": [
      "The propotion of Chicago: 0.08 \n",
      "The propotion of nyc: 0.07 \n",
      "The propotion of washington: 0.11 \n"
     ]
    }
   ],
   "source": [
    "#2\n",
    "def prop_duration(filename):\n",
    "    count = 0\n",
    "    with open(filename,'r') as f:\n",
    "        trip_reader = csv.DictReader(f, delimiter=\",\")\n",
    "        for row in trip_reader:\n",
    "            if float(row['duration']) > 30:\n",
    "                count += 1\n",
    "        return count\n",
    "        \n",
    "def prop_length(propotion):\n",
    "    \n",
    "    \n",
    "    data_files_n = './data/NYC-2016-Summary.csv'\n",
    "    data_files_c =  './data/Chicago-2016-Summary.csv'\n",
    "    data_files_w =  './data/Washington-2016-Summary.csv'\n",
    "    data = './examples/BayArea-Y3-Summary.csv'\n",
    "    \n",
    "    total_trip_chicago = trips_cities(data_files_c)\n",
    "    total_trip_nyc = trips_cities(data_files_n)\n",
    "    total_trip_washington = trips_cities(data_files_w)\n",
    "    \n",
    "    \n",
    "    dur_chicago = prop_duration(data_files_c)\n",
    "    dur_nyc = prop_duration(data_files_n)\n",
    "    dur_washington = prop_duration(data_files_w)\n",
    "    \n",
    "    chicago = (dur_chicago / total_trip_chicago) \n",
    "    nyc = (dur_nyc / total_trip_nyc) \n",
    "    washington = (dur_washington / total_trip_washington)\n",
    "    \n",
    "    print('The propotion of Chicago: {} '.format(round(chicago,2)))\n",
    "    print('The propotion of nyc: {} '.format(round(nyc,2)))\n",
    "    print('The propotion of washington: {} '.format(round(washington,2)))\n",
    "    \n",
    "prop_length(data_file)"
   ]
  },
  {
   "cell_type": "markdown",
   "metadata": {},
   "source": [
    "Let's Dig deeper into the question of trip duration based on ridership. \n",
    "\n",
    "Let's Choose one city. Within that city, which type of user takes longer rides on average: Subscribers or Customers?"
   ]
  },
  {
   "cell_type": "code",
   "execution_count": 30,
   "metadata": {},
   "outputs": [
    {
     "name": "stdout",
     "output_type": "stream",
     "text": [
      "Customers takes longer rides on average: 33.0 minutes\n"
     ]
    }
   ],
   "source": [
    "                                        \n",
    "\n",
    "def long_ride(filename):\n",
    "    total_trip_sub = 0\n",
    "    total_trip_cus = 0\n",
    "    number_of_subs = 0\n",
    "    number_of_cus = 0\n",
    "    avg_subs = 0\n",
    "    avg_cus = 0\n",
    "    data_files_n = './data/NYC-2016-Summary.csv'\n",
    "    with open(data_files_n,'r') as f:\n",
    "        trip_reader = csv.DictReader(f)\n",
    "        for row in trip_reader:\n",
    "            \n",
    "            if row['user_type'] == 'Subscriber':\n",
    "                number_of_subs += 1\n",
    "                total_trip_sub += float(row['duration'])\n",
    "            elif row['user_type'] == 'Customer':\n",
    "                number_of_cus += 1\n",
    "                total_trip_cus += float(row['duration'])\n",
    "        avg_subs = total_trip_sub / number_of_subs\n",
    "        #print(avg_subs)\n",
    "        avg_cus = total_trip_cus / number_of_cus\n",
    "        #print(avg_cus)\n",
    "        \n",
    "        if avg_subs > avg_cus:\n",
    "            print('Subscribers takes longer rides on average: {} minutes'.format(round(avg_subs,0)))\n",
    "        else:\n",
    "            print('Customers takes longer rides on average: {} minutes'.format(round(avg_cus,0)))\n",
    "            \n",
    "                \n",
    "    \n",
    "    \n",
    "    \n",
    "    \n",
    "long_ride(data_file)\n",
    "\n"
   ]
  },
  {
   "cell_type": "markdown",
   "metadata": {},
   "source": [
    "<a id='visualizations'></a>\n",
    "### Visualizations\n",
    "\n",
    "The last set of values that we computed should have pulled up an interesting result. While the mean trip time for Subscribers is well under 30 minutes, the mean trip time for Customers is actually _above_ 30 minutes! It will be interesting for us to look at how the trip times are distributed. In order to do this, we will use a a new library `matplotlib`."
   ]
  },
  {
   "cell_type": "code",
   "execution_count": 32,
   "metadata": {},
   "outputs": [
    {
     "data": {
      "image/png": "[encoded data removed]",
      "text/plain": [
       "<matplotlib.figure.Figure at 0x7f0f27753278>"
      ]
     },
     "metadata": {},
     "output_type": "display_data"
    }
   ],
   "source": [
    "# load library\n",
    "import matplotlib.pyplot as plt\n",
    "import matplotlib.pyplot as plt; plt.rcdefaults()\n",
    "import numpy as np\n",
    "import plotly.plotly as py\n",
    "%matplotlib inline \n",
    "\n",
    "# example histogram, data taken from bay area sample\n",
    "data = [ 7.65,  8.92,  7.42,  5.50, 16.17,  4.20,  8.98,  9.62, 11.48, 14.33,\n",
    "        19.02, 21.53,  3.90,  7.97,  2.62,  2.67,  3.08, 14.40, 12.90,  7.83,\n",
    "        25.12,  8.30,  4.93, 12.43, 10.60,  6.17, 10.88,  4.78, 15.15,  3.53,\n",
    "         9.43, 13.32, 11.72,  9.85,  5.22, 15.10,  3.95,  3.17,  8.78,  1.88,\n",
    "         4.55, 12.68, 12.38,  9.78,  7.63,  6.45, 17.38, 11.90, 11.52,  8.63,]\n",
    "plt.hist(data)\n",
    "plt.title('Distribution of Trip Durations')\n",
    "plt.xlabel('Duration (m)')\n",
    "plt.show()"
   ]
  },
  {
   "cell_type": "markdown",
   "metadata": {},
   "source": []
  },
  {
   "cell_type": "code",
   "execution_count": 33,
   "metadata": {},
   "outputs": [
    {
     "data": {
      "image/png": "[encoded data removed]",
      "text/plain": [
       "<matplotlib.figure.Figure at 0x7f0f252bce80>"
      ]
     },
     "metadata": {},
     "output_type": "display_data"
    }
   ],
   "source": [
    "def histogram_trip(filename):\n",
    "    new_trip = []\n",
    "    data_files_n = './data/NYC-2016-Summary.csv'\n",
    "    with open(data_files_n,'r') as f:\n",
    "        trip_reader = csv.DictReader(f)\n",
    "        for row in trip_reader:\n",
    "            #print(row['duration'])\n",
    "            new_trip.append(round(float(row['duration']),2))\n",
    "        #print(new_trip[:20])\n",
    "    plt.hist(new_trip)\n",
    "    plt.title('Distribution of Trip Durations')\n",
    "    plt.xlabel('Duration (m)')\n",
    "    plt.show()\n",
    "            \n",
    "\n",
    "histogram_trip(data_file)"
   ]
  },
  {
   "cell_type": "markdown",
   "metadata": {},
   "source": [
    "The plot consists of one extremely tall bar on the left, maybe a very short second bar, and a whole lot of empty space in the center and right. Take a look at the duration values on the x-axis. This suggests that there are some highly infrequent outliers in the data. Instead of reprocessing the data, we will use additional parameters with the `.hist()` function to limit the range of data that is plotted.\n",
    "\n",
    "Let's Use the parameters of the `.hist()` function to plot the distribution of trip times for the Subscribers in wer selected city. lets do  only for the Customers. Add limits to the plots so that only trips of duration less than 75 minutes are plotted. Also,we will set the plots up so that bars are in five-minute wide intervals. \n",
    "\n",
    "For each group, let's find out the peak of each distribution? How would we describe the shape of each distribution?\n",
    "\n"
   ]
  },
  {
   "cell_type": "code",
   "execution_count": 34,
   "metadata": {},
   "outputs": [
    {
     "data": {
      "image/png": "[encoded data removed]",
      "text/plain": [
       "<matplotlib.figure.Figure at 0x7f0f1d351278>"
      ]
     },
     "metadata": {},
     "output_type": "display_data"
    },
    {
     "name": "stdout",
     "output_type": "stream",
     "text": [
      "The Peak is at where X is:  6.5625\n"
     ]
    },
    {
     "data": {
      "image/png": "[encoded data removed]",
      "text/plain": [
       "<matplotlib.figure.Figure at 0x7f0f1fbd2a20>"
      ]
     },
     "metadata": {},
     "output_type": "display_data"
    }
   ],
   "source": [
    "\n",
    "\n",
    "def histogram_subs(filename):\n",
    "    new_trip = []\n",
    "    data_files_n = './data/NYC-2016-Summary.csv'\n",
    "    with open(data_files_n,'r') as f:\n",
    "        trip_reader = csv.DictReader(f)\n",
    "        for row in trip_reader:\n",
    "            if row['user_type'] == 'Subscriber' and float(row['duration']) < 75:\n",
    "                new_trip.append(round(float(row['duration']),2))\n",
    "        #print(new_trip)\n",
    "    plt.hist(new_trip,bins=5)\n",
    "    plt.title('Distribution of Trip Durations')\n",
    "    plt.xlabel('Duration (m)')\n",
    "    plt.show()\n",
    "    \n",
    "    #Peak calculation\n",
    "    #arr = np.array(list(new_trip))\n",
    "    y,x,_=plt.hist(new_trip, bins=200)\n",
    "    \n",
    "    max_y = max(y)  # Find the maximum y value\n",
    "    max_x = x[np.argmax(y)]  # Find the x value corresponding to the maximum y value\n",
    "    print('The Peak is at where X is: ',max_x)\n",
    " \n",
    "\n",
    "            \n",
    "\n",
    "histogram_subs(data_file)\n",
    "\n"
   ]
  },
  {
   "cell_type": "code",
   "execution_count": null,
   "metadata": {
    "collapsed": true
   },
   "outputs": [],
   "source": [
    " "
   ]
  },
  {
   "cell_type": "code",
   "execution_count": 35,
   "metadata": {},
   "outputs": [
    {
     "data": {
      "image/png": "[encoded data removed]",
      "text/plain": [
       "<matplotlib.figure.Figure at 0x7f0f1d373780>"
      ]
     },
     "metadata": {},
     "output_type": "display_data"
    },
    {
     "name": "stdout",
     "output_type": "stream",
     "text": [
      "The Peak is at where X is:  21.7148\n"
     ]
    },
    {
     "data": {
      "image/png": "[encoded data removed]",
      "text/plain": [
       "<matplotlib.figure.Figure at 0x7f0f1d30e400>"
      ]
     },
     "metadata": {},
     "output_type": "display_data"
    }
   ],
   "source": [
    "\n",
    "def histogram_cus(filename):\n",
    "    new_trip = []\n",
    "    data_files_n = './data/NYC-2016-Summary.csv'\n",
    "    with open(data_files_n,'r') as f:\n",
    "        trip_reader = csv.DictReader(f)\n",
    "        for row in trip_reader:\n",
    "            if row['user_type'] == 'Customer' and float(row['duration']) < 75:\n",
    "                new_trip.append(round(float(row['duration']),2))\n",
    "        #print(new_trip)\n",
    "    plt.hist(new_trip,bins=5)\n",
    "    plt.title('Distribution of Trip Durations')\n",
    "    plt.xlabel('Duration (m)')\n",
    "    plt.show()\n",
    "    \n",
    "        #Peak calculation\n",
    "    #x,y,_=plt.hist(new_trip, bins=5)\n",
    "    \n",
    "     #Peak calculation\n",
    "    arr = np.array(list(new_trip))\n",
    "    y,x,_=plt.hist(arr, bins=200)\n",
    "    \n",
    "    max_y = max(y)  # Find the maximum y value\n",
    "    max_x = x[np.argmax(y)]  # Find the x value corresponding to the maximum y value\n",
    "    print('The Peak is at where X is: ',max_x)\n",
    "    \n",
    "    \n",
    "    #print('The Peak at X where Y is at : ',x.max())\n",
    "    \n",
    "            \n",
    "\n",
    "histogram_cus(data_file)"
   ]
  },
  {
   "cell_type": "code",
   "execution_count": null,
   "metadata": {
    "collapsed": true
   },
   "outputs": [],
   "source": [
    "**Answer**: \n",
    "\n",
    "1. where is the peak of each distribution?\n",
    "    a. Subscribers:\n",
    "            The Peak is at where X is:  6.5625\n",
    "        \n",
    "    b. customers:\n",
    "            The Peak is at where X is:  21.7148         \n",
    "\n",
    "2. How would we describe the shape of each distribution?\n",
    "     Both Customer and Subscriber distribution is possibly non-symmetric, the fact that it has only one peak makes it unimodal, and it's skewed right (postive skewness)."
   ]
  },
  {
   "cell_type": "markdown",
   "metadata": {
    "collapsed": true
   },
   "source": [
    "So far, we've performed an initial exploration into the data available. we have compared the relative volume of trips made between three U.S. cities and the ratio of trips made by Subscribers and Customers. For one of these cities, we have investigated differences between Subscribers and Customers in terms of how long a typical trip lasts. Now it is our turn to continue the exploration in a different direction\n",
    "\n",
    "- How does ridership differ by month or season? Which month / season has the highest ridership? Does the ratio of Subscriber trips to Customer trips change depending on the month or season?\n",
    "- Is the pattern of ridership different on the weekends versus weekdays? On what days are Subscribers most likely to use the system? What about Customers? Does the average duration of rides change depending on the day of the week?\n",
    "- During what time of day is the system used the most? Is there a difference in usage patterns for Subscribers and Customers?\n",
    "\n",
    "\n",
    "Let's Continue the investigation by exploring another question that could be answered by the data available.\n",
    "\n"
   ]
  },
  {
   "cell_type": "code",
   "execution_count": null,
   "metadata": {},
   "outputs": [
    {
     "name": "stdout",
     "output_type": "stream",
     "text": [
      "No.of rides in the Month of Jan: 1901\n",
      "No.of rides in the Month of Feb: 2394\n",
      "No.of rides in the Month of Mar: 3719\n",
      "No.of rides in the Month of Apr: 4567\n",
      "No.of rides in the Month of May: 7211\n",
      "No.of rides in the Month of Jun: 9794\n",
      "No.of rides in the Month of Jul: 10286\n",
      "No.of rides in the Month of Aug: 9810\n",
      "No.of rides in the Month of Sep: 8700\n",
      "No.of rides in the Month of Oct: 7160\n",
      "No.of rides in the Month of Nov: 4811\n",
      "No.of rides in the Month of Dec: 1778\n"
     ]
    },
    {
     "data": {
      "image/png": "[encoded data removed]",
      "text/plain": [
       "<matplotlib.figure.Figure at 0x7f0f1d91d278>"
      ]
     },
     "metadata": {},
     "output_type": "display_data"
    },
    {
     "name": "stdout",
     "output_type": "stream",
     "text": [
      "No.of rides in the Month of Jan-Mar: 8014\n",
      "No.of rides in the Month of Apr-Jun: 21572\n",
      "No.of rides in the Month of Jul-Sep: 28796\n",
      "No.of rides in the Month of Oct-Dec: 13749\n"
     ]
    },
    {
     "data": {
      "image/png": "[encoded data removed]",
      "text/plain": [
       "<matplotlib.figure.Figure at 0x7f0f1d937320>"
      ]
     },
     "metadata": {},
     "output_type": "display_data"
    }
   ],
   "source": [
    "\n",
    "def ride_month(filename):\n",
    "    month_list = []\n",
    "    month_dict = {}\n",
    "    data_files_c = './data/Chicago-Divvy-2016.csv'\n",
    "    with open(data_files_c,'r') as f:\n",
    "        trip_reader = csv.DictReader(f)\n",
    "        \n",
    "        for row in trip_reader:       \n",
    "            t = row['starttime']\n",
    "            mymonth = datetime.strptime(t,'%m/%d/%Y %H:%M')\n",
    "            month = mymonth.strftime('%b')\n",
    "            month_list.append(month)\n",
    "        \n",
    "        my_dict = {i:month_list.count(i) for i in month_list}\n",
    "        #print(my_dict)\n",
    "    return my_dict\n",
    "            \n",
    "def month_list(filename):\n",
    "    my_months = ride_month(filename)\n",
    "    #print(my_months)\n",
    "    months = {}\n",
    "    months['Jan'] = my_months.get('Jan')\n",
    "    months['Feb'] = my_months.get('Feb')\n",
    "    months['Mar'] = my_months.get('Mar')\n",
    "    months['Apr'] = my_months.get('Apr')\n",
    "    months['May'] = my_months.get('May')\n",
    "    months['Jun'] = my_months.get('Jun')\n",
    "    months['Jul'] = my_months.get('Jul')\n",
    "    months['Aug'] = my_months.get('Aug')\n",
    "    months['Sep'] = my_months.get('Sep')\n",
    "    months['Oct'] = my_months.get('Oct')\n",
    "    months['Nov'] = my_months.get('Nov')\n",
    "    months['Dec'] = my_months.get('Dec')\n",
    "    \n",
    "    print('No.of rides in the Month of Jan: {}'.format((my_months.get('Jan','No rides recorded'))))\n",
    "    print('No.of rides in the Month of Feb: {}'.format((my_months.get('Feb','No rides recorded'))))\n",
    "    print('No.of rides in the Month of Mar: {}'.format((my_months.get('Mar','No rides recorded'))))\n",
    "    print('No.of rides in the Month of Apr: {}'.format((my_months.get('Apr','No rides recorded'))))\n",
    "    print('No.of rides in the Month of May: {}'.format((my_months.get('May','No rides recorded'))))\n",
    "    print('No.of rides in the Month of Jun: {}'.format((my_months.get('Jun','No rides recorded'))))\n",
    "    print('No.of rides in the Month of Jul: {}'.format((my_months.get('Jul','No rides recorded'))))\n",
    "    print('No.of rides in the Month of Aug: {}'.format((my_months.get('Aug','No rides recorded'))))\n",
    "    print('No.of rides in the Month of Sep: {}'.format((my_months.get('Sep','No rides recorded'))))\n",
    "    print('No.of rides in the Month of Oct: {}'.format((my_months.get('Oct','No rides recorded'))))\n",
    "    print('No.of rides in the Month of Nov: {}'.format((my_months.get('Nov','No rides recorded'))))\n",
    "    print('No.of rides in the Month of Dec: {}'.format((my_months.get('Dec','No rides recorded'))))\n",
    "    \n",
    "    \n",
    "    plt.bar(range(len(months)), list(months.values()), align='center')\n",
    "    plt.xticks(range(len(months)), list(months.keys()))\n",
    "    plt.ylabel('Trips')\n",
    "    plt.title('Number of Rides vs Month')\n",
    "    plt.show()\n",
    "\n",
    "    \n",
    "\n",
    "\n",
    "def season_list(filename):\n",
    "    my_season = ride_month(filename)\n",
    "    \n",
    "    season = {}\n",
    "    season['Jan-Mar'] = my_season.get('Jan',0) + my_season.get('Feb',0) + my_season.get('Mar',0)\n",
    "    season['Apr-Jun'] = my_season.get('Apr',0) + my_season.get('May',0) + my_season.get('Jun',0)\n",
    "    season['Jul-Sep'] = my_season.get('Jul',0) + my_season.get('Aug',0) + my_season.get('Sep',0)\n",
    "    season['Oct-Dec'] = my_season.get('Oct',0) + my_season.get('Nov',0) + my_season.get('Dec',0)\n",
    "    \n",
    "    \n",
    "    \n",
    "    print('No.of rides in the Month of Jan-Mar: {}'.format(season['Jan-Mar']))\n",
    "    print('No.of rides in the Month of Apr-Jun: {}'.format(season['Apr-Jun']))\n",
    "    print('No.of rides in the Month of Jul-Sep: {}'.format(season['Jul-Sep']))\n",
    "    print('No.of rides in the Month of Oct-Dec: {}'.format(season['Oct-Dec']))\n",
    "    \n",
    "    plt.bar(range(len(season)), list(season.values()), align='center')\n",
    "    plt.xticks(range(len(season)), list(season.keys()))\n",
    "    plt.ylabel('Trips')\n",
    "    plt.title('Number of Rides vs Season')\n",
    "    plt.show()\n",
    "            \n",
    "month_list(data_file) \n",
    "season_list(data_file)\n"
   ]
  },
  {
   "cell_type": "code",
   "execution_count": null,
   "metadata": {
    "collapsed": true
   },
   "outputs": [],
   "source": [
    "def high_month(filename):\n",
    "    high_month = ride_month(filename)\n",
    "    max_m = max(high_month.items(), key=lambda x: x[1])\n",
    "    print('The Highest month recorded with trips: ',max_m)\n",
    "    \n",
    "def high_season(filename):\n",
    "    high_season = ride_month(filename)\n",
    "    season1 = high_season.get('Jan',0) + high_season.get('Feb',0) + high_season.get('Mar',0)\n",
    "    season2 = high_season.get('Apr',0) + high_season.get('May',0) + high_season.get('Jun',0)\n",
    "    season3 = high_season.get('Jul',0) + high_season.get('Aug',0) + high_season.get('Sep',0)\n",
    "    season4 = high_season.get('Oct',0) + high_season.get('Nov',0) + high_season.get('Dec',0)\n",
    "    \n",
    "    if int(season1) > int(season2) and int(season1) > int(season3) and int(season1) > int(season4):\n",
    "        print('The Highest recorded season is between Jan-Mar with trips: {}'.format(season1))\n",
    "    elif int(season2) > int(season1) and int(season2) > int(season3) and int(season2) > int(season4):\n",
    "        print('The Highest recorded season is between Apr-Jun with trips: {}'.format(season2))\n",
    "    elif int(season3) > int(season1) and int(season3) > int(season2) and int(season3) > int(season4):\n",
    "        print('The Highest recorded season is between Jul-Sep with trips: {}'.format(season3))\n",
    "    else:\n",
    "        print('The Highest recorded season is between Oct-Dec with trips: {}'.format(season4))\n",
    "            \n",
    "high_season(data_file)\n",
    "high_month(data_file)"
   ]
  },
  {
   "cell_type": "code",
   "execution_count": null,
   "metadata": {
    "collapsed": true
   },
   "outputs": [],
   "source": [
    "def ratio_subs(filename):\n",
    "    month_list = []\n",
    "    month_dict = {}\n",
    "    data_files_c = './data/Chicago-Divvy-2016.csv'\n",
    "    with open(data_files_c,'r') as f:\n",
    "        trip_reader = csv.DictReader(f)\n",
    "        \n",
    "        for row in trip_reader: \n",
    "            if(row['usertype']) == 'Subscriber':\n",
    "                t = row['starttime']\n",
    "                mymonth = datetime.strptime(t,'%m/%d/%Y %H:%M')\n",
    "                month = mymonth.strftime('%b')\n",
    "                month_list.append(month)\n",
    "        \n",
    "        my_dict = {i:month_list.count(i) for i in month_list}\n",
    "        #print(my_dict)\n",
    "    return my_dict\n",
    "\n",
    "def ratio_cus(filename):\n",
    "    month_list = []\n",
    "    month_dict = {}\n",
    "    data_files_c = './data/Chicago-Divvy-2016.csv'\n",
    "    with open(data_files_c,'r') as f:\n",
    "        trip_reader = csv.DictReader(f)\n",
    "        \n",
    "        for row in trip_reader: \n",
    "            if(row['usertype']) == 'Customer':\n",
    "                t = row['starttime']\n",
    "                mymonth = datetime.strptime(t,'%m/%d/%Y %H:%M')\n",
    "                month = mymonth.strftime('%b')\n",
    "                month_list.append(month)\n",
    "        \n",
    "        my_dict = {i:month_list.count(i) for i in month_list}\n",
    "        #print(my_dict)\n",
    "    return my_dict"
   ]
  },
  {
   "cell_type": "code",
   "execution_count": null,
   "metadata": {
    "collapsed": true
   },
   "outputs": [],
   "source": [
    "def month_ratio(filename):\n",
    "    month_subs = ratio_subs(filename)\n",
    "    month_cus = ratio_cus(filename)\n",
    "    \n",
    "    months = {}\n",
    "    \n",
    "    months['Jan'] = float(month_subs.get('Jan',0) / month_cus.get('Jan',0))\n",
    "    months['Feb'] = float(month_subs.get('Feb',0) / month_cus.get('Feb',0))\n",
    "    months['Mar'] = float(month_subs.get('Mar',0) / month_cus.get('Mar',0))\n",
    "    months['Apr'] = float(month_subs.get('Apr',0) / month_cus.get('Apr',0))\n",
    "    months['May'] = float(month_subs.get('May',0) / month_cus.get('May',0))\n",
    "    months['Jun'] = float(month_subs.get('Jun',0) / month_cus.get('Jun',0))\n",
    "    months['Jul'] = float(month_subs.get('Jul',0) / month_cus.get('Jul',0))\n",
    "    months['Aug'] = float(month_subs.get('Aug',0) / month_cus.get('Aug',0))\n",
    "    months['Sep'] = float(month_subs.get('Sep',0) / month_cus.get('Sep',0))\n",
    "    months['Oct'] = float(month_subs.get('Oct',0) / month_cus.get('Oct',0))\n",
    "    months['Nov'] = float(month_subs.get('Nov',0) / month_cus.get('Nov',0))\n",
    "    months['Dec'] = float(month_subs.get('Dec',0) / month_cus.get('Dec',0))\n",
    "    \n",
    "    \n",
    "    print('Ratio of subscribers to customers in the Month of Jan: {}'.format(round(months['Jan'],2)))\n",
    "    print('Ratio of subscribers to customers in the Month of Feb: {}'.format(round(months['Feb'],2)))\n",
    "    print('Ratio of subscribers to customers in the Month of Mar: {}'.format(round(months['Mar'],2)))\n",
    "    print('Ratio of subscribers to customers in the Month of Apr: {}'.format(round(months['Apr'],2)))\n",
    "    print('Ratio of subscribers to customers in the Month of May: {}'.format(round(months['May'],2)))\n",
    "    print('Ratio of subscribers to customers in the Month of Jun: {}'.format(round(months['Jun'],2)))\n",
    "    print('Ratio of subscribers to customers in the Month of Jul: {}'.format(round(months['Jul'],2)))\n",
    "    print('Ratio of subscribers to customers in the Month of Aug: {}'.format(round(months['Aug'],2)))\n",
    "    print('Ratio of subscribers to customers in the Month of Sep: {}'.format(round(months['Sep'],2)))\n",
    "    print('Ratio of subscribers to customers in the Month of Oct: {}'.format(round(months['Oct'],2)))\n",
    "    print('Ratio of subscribers to customers in the Month of Nov: {}'.format(round(months['Nov'],2)))\n",
    "    print('Ratio of subscribers to customers in the Month of Dec: {}'.format(round(months['Dec'],2)))\n",
    "\n",
    "    \n",
    "    plt.bar(range(len(months)), list(months.values()), align='center')\n",
    "    plt.xticks(range(len(months)), list(months.keys()))\n",
    "    plt.ylabel('Trips')\n",
    "    plt.title('Ratio of Subscribers to Customers vs Month')\n",
    "    plt.show()\n",
    "    \n",
    "month_ratio(data_file)"
   ]
  },
  {
   "cell_type": "code",
   "execution_count": 55,
   "metadata": {},
   "outputs": [
    {
     "name": "stdout",
     "output_type": "stream",
     "text": [
      "Ratio of subscribers to customers in the season of Jan-Mar: 44.74\n",
      "Ratio of subscribers to customers in the season of Apr-Jun: 8.82\n",
      "Ratio of subscribers to customers in the season of Jul-Sep: 7.35\n",
      "Ratio of subscribers to customers in the season of Oct-Dec: 38.65\n"
     ]
    },
    {
     "data": {
      "image/png": "[encoded data removed]",
      "text/plain": [
       "<matplotlib.figure.Figure at 0x7f5676668f28>"
      ]
     },
     "metadata": {},
     "output_type": "display_data"
    }
   ],
   "source": [
    "def season_ratio(filename):\n",
    "    season_subs = ratio_subs(filename)\n",
    "    season_cus = ratio_cus(filename)\n",
    "    \n",
    "    season= {}\n",
    "    season['Jan-Mar'] = (season_subs.get('Jan',0) / season_cus.get('Jan',0)) + (season_subs.get('Feb',0) / season_cus.get('Feb',0)) + (season_subs.get('Mar',0) / season_cus.get('Mar',0))\n",
    "    season['Apr-Jun'] = (season_subs.get('Apr',0) / season_cus.get('Apr',0)) + (season_subs.get('May',0) / season_cus.get('May',0)) + (season_subs.get('Jun',0) / season_cus.get('Jun',0))\n",
    "    season['Jul-Sep'] = (season_subs.get('Jul',0) / season_cus.get('Jul',0)) + (season_subs.get('Aug',0) / season_cus.get('Aug',0)) + (season_subs.get('Sep',0) / season_cus.get('Sep',0))\n",
    "    season['Oct-Dec'] = (season_subs.get('Oct',0) / season_cus.get('Oct',0)) + (season_subs.get('Nov',0) / season_cus.get('Nov',0)) + (season_subs.get('Dec',0) / season_cus.get('Dec',0))\n",
    "    \n",
    "    \n",
    "    print('Ratio of subscribers to customers in the season of Jan-Mar: {}'.format(round(season['Jan-Mar'],2)))\n",
    "    print('Ratio of subscribers to customers in the season of Apr-Jun: {}'.format(round(season['Apr-Jun'],2)))\n",
    "    print('Ratio of subscribers to customers in the season of Jul-Sep: {}'.format(round(season['Jul-Sep'],2)))\n",
    "    print('Ratio of subscribers to customers in the season of Oct-Dec: {}'.format(round(season['Oct-Dec'],2)))\n",
    "\n",
    "    plt.bar(range(len(season)), list(season.values()), align='center')\n",
    "    plt.xticks(range(len(season)), list(season.keys()))\n",
    "    plt.ylabel('Trips')\n",
    "    plt.title('Ratio of Subscribers to Customers vs Season')\n",
    "    plt.show()\n",
    "    \n",
    "season_ratio(data_file)"
   ]
  },
  {
   "cell_type": "code",
   "execution_count": null,
   "metadata": {
    "collapsed": true
   },
   "outputs": [],
   "source": [
    "\n",
    "**Answer**: \n",
    "\n",
    "1. Trip Duration Month wise (Trips vs Months)\n",
    "2. Trip Duration Season wise (Trips vs Seasons)\n",
    "3. Highest Trip Duration of the Month in a year\n",
    "4. Highest Trip Duration of the Season in a year\n",
    "5. Trip Duration Ratio b/w subscribers to customers - Month wise\n",
    "6. Trip Duration Ratio b/w subscribers to customers - Season wise"
   ]
  },
  {
   "cell_type": "markdown",
   "metadata": {},
   "source": [
    "<a id='conclusions'></a>\n",
    "## Conclusions\n",
    "\n",
    "In this project we have assessed Python to explore the dataset related to BikeShare systems for three major cities in the United States.we have performed data wrangling to unify the format of data from the three systems and write code to compute descriptive statistics.we also used libraries like Pandas, numpy to wrangle the data and matplotlib to visually analyse the wrangled dataset.\n",
    " \n",
    "\n"
   ]
  },
  {
   "cell_type": "code",
   "execution_count": 2,
   "metadata": {},
   "outputs": [
    {
     "data": {
      "text/plain": [
       "0"
      ]
     },
     "execution_count": 2,
     "metadata": {},
     "output_type": "execute_result"
    }
   ],
   "source": [
    "from subprocess import call\n",
    "call(['python', '-m', 'nbconvert', 'Bike_Share_Analysis.ipynb'])"
   ]
  },
  {
   "cell_type": "code",
   "execution_count": null,
   "metadata": {
    "collapsed": true
   },
   "outputs": [],
   "source": []
  },
  {
   "cell_type": "code",
   "execution_count": null,
   "metadata": {
    "collapsed": true
   },
   "outputs": [],
   "source": []
  }
 ],
 "metadata": {
  "anaconda-cloud": {},
  "kernelspec": {
   "display_name": "Python [default]",
   "language": "python",
   "name": "python3"
  },
  "language_info": {
   "codemirror_mode": {
    "name": "ipython",
    "version": 3
   },
   "file_extension": ".py",
   "mimetype": "text/x-python",
   "name": "python",
   "nbconvert_exporter": "python",
   "pygments_lexer": "ipython3",
   "version": "3.6.3"
  }
 },
 "nbformat": 4,
 "nbformat_minor": 1
}
